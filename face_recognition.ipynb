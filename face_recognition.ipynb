{
  "nbformat": 4,
  "nbformat_minor": 0,
  "metadata": {
    "colab": {
      "name": "face recognition.ipynb",
      "provenance": [],
      "include_colab_link": true
    },
    "kernelspec": {
      "name": "python3",
      "display_name": "Python 3"
    },
    "accelerator": "GPU"
  },
  "cells": [
    {
      "cell_type": "markdown",
      "metadata": {
        "id": "view-in-github",
        "colab_type": "text"
      },
      "source": [
        "<a href=\"https://colab.research.google.com/github/S-Anusri/Distributed-ML-Frameworks-for-Fog-environment/blob/main/face_recognition.ipynb\" target=\"_parent\"><img src=\"https://colab.research.google.com/assets/colab-badge.svg\" alt=\"Open In Colab\"/></a>"
      ]
    },
    {
      "metadata": {
        "id": "PpufwT3BNXLR"
      },
      "cell_type": "markdown",
      "source": [
        "# Face recognition\n",
        "\n",
        "https://github.com/ageitgey/face_recognition"
      ]
    },
    {
      "metadata": {
        "id": "YHR7-mDA6vSO",
        "outputId": "8387d3db-4df1-499e-bb3f-317d2cc2f82e",
        "colab": {
          "base_uri": "https://localhost:8080/"
        }
      },
      "cell_type": "code",
      "source": [
        "!pip3 install face_recognition"
      ],
      "execution_count": 1,
      "outputs": [
        {
          "output_type": "stream",
          "name": "stdout",
          "text": [
            "Collecting face_recognition\n",
            "  Downloading face_recognition-1.3.0-py2.py3-none-any.whl.metadata (21 kB)\n",
            "Collecting face-recognition-models>=0.3.0 (from face_recognition)\n",
            "  Downloading face_recognition_models-0.3.0.tar.gz (100.1 MB)\n",
            "\u001b[2K     \u001b[90m━━━━━━━━━━━━━━━━━━━━━━━━━━━━━━━━━━━━━━\u001b[0m \u001b[32m100.1/100.1 MB\u001b[0m \u001b[31m10.4 MB/s\u001b[0m eta \u001b[36m0:00:00\u001b[0m\n",
            "\u001b[?25h  Preparing metadata (setup.py) ... \u001b[?25l\u001b[?25hdone\n",
            "Requirement already satisfied: Click>=6.0 in /usr/local/lib/python3.11/dist-packages (from face_recognition) (8.2.0)\n",
            "Requirement already satisfied: dlib>=19.7 in /usr/local/lib/python3.11/dist-packages (from face_recognition) (19.24.6)\n",
            "Requirement already satisfied: numpy in /usr/local/lib/python3.11/dist-packages (from face_recognition) (2.0.2)\n",
            "Requirement already satisfied: Pillow in /usr/local/lib/python3.11/dist-packages (from face_recognition) (11.2.1)\n",
            "Downloading face_recognition-1.3.0-py2.py3-none-any.whl (15 kB)\n",
            "Building wheels for collected packages: face-recognition-models\n",
            "  Building wheel for face-recognition-models (setup.py) ... \u001b[?25l\u001b[?25hdone\n",
            "  Created wheel for face-recognition-models: filename=face_recognition_models-0.3.0-py2.py3-none-any.whl size=100566166 sha256=e0ee6c827c7681844fcb35a6d4430b5877a87f405f6b8cef5d46f273ca16908a\n",
            "  Stored in directory: /root/.cache/pip/wheels/04/52/ec/9355da79c29f160b038a20c784db2803c2f9fa2c8a462c176a\n",
            "Successfully built face-recognition-models\n",
            "Installing collected packages: face-recognition-models, face_recognition\n",
            "Successfully installed face-recognition-models-0.3.0 face_recognition-1.3.0\n"
          ]
        }
      ]
    },
    {
      "metadata": {
        "id": "t_0rq2kzOGNs"
      },
      "cell_type": "markdown",
      "source": [
        "Make known and unknown directories"
      ]
    },
    {
      "cell_type": "code",
      "source": [
        "import dlib\n",
        "import face_recognition\n",
        "\n",
        "print(\"dlib and face_recognition successfully imported.\")"
      ],
      "metadata": {
        "id": "N3tGuM2x2anH",
        "outputId": "224bb248-12ce-4fd3-f26c-bc2c447c3779",
        "colab": {
          "base_uri": "https://localhost:8080/"
        }
      },
      "execution_count": 5,
      "outputs": [
        {
          "output_type": "stream",
          "name": "stdout",
          "text": [
            "dlib and face_recognition successfully imported.\n"
          ]
        }
      ]
    },
    {
      "cell_type": "code",
      "source": [
        "!pip install ray"
      ],
      "metadata": {
        "id": "b-I2aPex2qmM",
        "outputId": "5d6c2617-790c-4db8-9246-49feb8083993",
        "colab": {
          "base_uri": "https://localhost:8080/"
        }
      },
      "execution_count": 6,
      "outputs": [
        {
          "output_type": "stream",
          "name": "stdout",
          "text": [
            "Collecting ray\n",
            "  Downloading ray-2.46.0-cp311-cp311-manylinux2014_x86_64.whl.metadata (19 kB)\n",
            "Requirement already satisfied: click>=7.0 in /usr/local/lib/python3.11/dist-packages (from ray) (8.2.0)\n",
            "Requirement already satisfied: filelock in /usr/local/lib/python3.11/dist-packages (from ray) (3.18.0)\n",
            "Requirement already satisfied: jsonschema in /usr/local/lib/python3.11/dist-packages (from ray) (4.23.0)\n",
            "Requirement already satisfied: msgpack<2.0.0,>=1.0.0 in /usr/local/lib/python3.11/dist-packages (from ray) (1.1.0)\n",
            "Requirement already satisfied: packaging in /usr/local/lib/python3.11/dist-packages (from ray) (24.2)\n",
            "Requirement already satisfied: protobuf!=3.19.5,>=3.15.3 in /usr/local/lib/python3.11/dist-packages (from ray) (5.29.4)\n",
            "Requirement already satisfied: pyyaml in /usr/local/lib/python3.11/dist-packages (from ray) (6.0.2)\n",
            "Requirement already satisfied: requests in /usr/local/lib/python3.11/dist-packages (from ray) (2.32.3)\n",
            "Requirement already satisfied: attrs>=22.2.0 in /usr/local/lib/python3.11/dist-packages (from jsonschema->ray) (25.3.0)\n",
            "Requirement already satisfied: jsonschema-specifications>=2023.03.6 in /usr/local/lib/python3.11/dist-packages (from jsonschema->ray) (2025.4.1)\n",
            "Requirement already satisfied: referencing>=0.28.4 in /usr/local/lib/python3.11/dist-packages (from jsonschema->ray) (0.36.2)\n",
            "Requirement already satisfied: rpds-py>=0.7.1 in /usr/local/lib/python3.11/dist-packages (from jsonschema->ray) (0.24.0)\n",
            "Requirement already satisfied: charset-normalizer<4,>=2 in /usr/local/lib/python3.11/dist-packages (from requests->ray) (3.4.2)\n",
            "Requirement already satisfied: idna<4,>=2.5 in /usr/local/lib/python3.11/dist-packages (from requests->ray) (3.10)\n",
            "Requirement already satisfied: urllib3<3,>=1.21.1 in /usr/local/lib/python3.11/dist-packages (from requests->ray) (2.4.0)\n",
            "Requirement already satisfied: certifi>=2017.4.17 in /usr/local/lib/python3.11/dist-packages (from requests->ray) (2025.4.26)\n",
            "Requirement already satisfied: typing-extensions>=4.4.0 in /usr/local/lib/python3.11/dist-packages (from referencing>=0.28.4->jsonschema->ray) (4.13.2)\n",
            "Downloading ray-2.46.0-cp311-cp311-manylinux2014_x86_64.whl (68.5 MB)\n",
            "\u001b[2K   \u001b[90m━━━━━━━━━━━━━━━━━━━━━━━━━━━━━━━━━━━━━━━━\u001b[0m \u001b[32m68.5/68.5 MB\u001b[0m \u001b[31m11.3 MB/s\u001b[0m eta \u001b[36m0:00:00\u001b[0m\n",
            "\u001b[?25hInstalling collected packages: ray\n",
            "Successfully installed ray-2.46.0\n"
          ]
        }
      ]
    },
    {
      "cell_type": "code",
      "source": [
        "!pip uninstall -y dlib face_recognition\n",
        "!pip install cmake\n",
        "!pip install dlib==19.24.0\n",
        "!pip install face_recognition matplotlib scikit-learn opencv-python\n"
      ],
      "metadata": {
        "id": "fUtYUZbD3ILQ",
        "outputId": "2d9005aa-d39e-43b8-fb2c-badc0f3b0e34",
        "colab": {
          "base_uri": "https://localhost:8080/"
        }
      },
      "execution_count": null,
      "outputs": [
        {
          "output_type": "stream",
          "name": "stdout",
          "text": [
            "\u001b[33mWARNING: Skipping dlib as it is not installed.\u001b[0m\u001b[33m\n",
            "\u001b[0m\u001b[33mWARNING: Skipping face_recognition as it is not installed.\u001b[0m\u001b[33m\n",
            "\u001b[0mRequirement already satisfied: cmake in /usr/local/lib/python3.11/dist-packages (3.31.6)\n",
            "Collecting dlib==19.24.0\n",
            "  Using cached dlib-19.24.0.tar.gz (3.2 MB)\n",
            "  Preparing metadata (setup.py) ... \u001b[?25l\u001b[?25hdone\n",
            "Building wheels for collected packages: dlib\n"
          ]
        }
      ]
    },
    {
      "cell_type": "code",
      "source": [
        "import os\n",
        "import cv2\n",
        "import numpy as np\n",
        "import face_recognition\n",
        "import matplotlib.pyplot as plt\n",
        "from sklearn.decomposition import PCA\n",
        "from sklearn.preprocessing import StandardScaler\n",
        "from sklearn.metrics.pairwise import pairwise_distances\n",
        "from collections import defaultdict\n",
        "\n",
        "IMAGE_DIR = \"/content/images\"\n",
        "OUTPUT_PLOT = \"cluster_plot.png\"\n",
        "OUTPUT_GRID = \"cluster_grid.png\"\n",
        "\n",
        "def extract_face_embedding(image_path):\n",
        "    image = face_recognition.load_image_file(image_path)\n",
        "    face_locations = face_recognition.face_locations(image)\n",
        "    if not face_locations:\n",
        "        print(f\"No face found in {image_path}\")\n",
        "        return None\n",
        "    embeddings = face_recognition.face_encodings(image, face_locations)\n",
        "    return embeddings[0] if embeddings else None\n",
        "\n",
        "def load_embeddings(image_dir):\n",
        "    features, paths = [], []\n",
        "    for fname in os.listdir(image_dir):\n",
        "        if fname.lower().endswith((\".jpg\", \".png\", \".jpeg\")):\n",
        "            path = os.path.join(image_dir, fname)\n",
        "            embedding = extract_face_embedding(path)\n",
        "            if embedding is not None:\n",
        "                features.append(embedding)\n",
        "                paths.append(path)\n",
        "    return np.array(features), paths\n",
        "\n",
        "def custom_cluster(embeddings, min_group_size=3, distance_threshold=0.6):\n",
        "    distance_matrix = pairwise_distances(embeddings, metric=\"euclidean\")\n",
        "    N = len(embeddings)\n",
        "    labels = [-1] * N\n",
        "    cluster_id = 0\n",
        "    assigned = set()\n",
        "\n",
        "    for i in range(N):\n",
        "        if i in assigned:\n",
        "            continue\n",
        "        neighbors = np.where(distance_matrix[i] < distance_threshold)[0].tolist()\n",
        "        neighbors = [n for n in neighbors if n != i and n not in assigned]\n",
        "\n",
        "        if len(neighbors) >= min_group_size - 1:\n",
        "            group = [i] + neighbors\n",
        "            for idx in group:\n",
        "                labels[idx] = cluster_id\n",
        "                assigned.add(idx)\n",
        "            cluster_id += 1\n",
        "\n",
        "    return labels\n",
        "\n",
        "def save_cluster_plot(image_paths, labels, embeddings):\n",
        "    embeddings_scaled = StandardScaler().fit_transform(embeddings)\n",
        "    reduced = PCA(n_components=2).fit_transform(embeddings_scaled)\n",
        "\n",
        "    unique_labels = sorted(set(labels))\n",
        "    colors = plt.get_cmap(\"tab10\")\n",
        "\n",
        "    plt.figure(figsize=(10, 8))\n",
        "    for label in unique_labels:\n",
        "        indices = [i for i, l in enumerate(labels) if l == label]\n",
        "        cluster_points = reduced[indices]\n",
        "        color = \"gray\" if label == -1 else colors(label % 10)\n",
        "        label_name = \"Noise\" if label == -1 else f\"Cluster {label}\"\n",
        "        plt.scatter(cluster_points[:, 0], cluster_points[:, 1], color=color, s=100, label=label_name)\n",
        "\n",
        "    plt.title(\"Face Clustering with PCA\")\n",
        "    plt.legend(loc=\"upper right\", fontsize=\"small\", bbox_to_anchor=(1.05, 1))\n",
        "    plt.tight_layout()\n",
        "    plt.savefig(OUTPUT_PLOT)\n",
        "    plt.close()\n",
        "    print(f\"Plot saved to {OUTPUT_PLOT}\")\n",
        "\n",
        "def save_cluster_grid(image_paths, labels):\n",
        "    cluster_dict = defaultdict(list)\n",
        "    for path, label in zip(image_paths, labels):\n",
        "        if label != -1:\n",
        "            cluster_dict[label].append(path)\n",
        "\n",
        "    cluster_rows = []\n",
        "    max_width = 0\n",
        "    for cluster in sorted(cluster_dict.keys()):\n",
        "        images = []\n",
        "        for path in cluster_dict[cluster]:\n",
        "            img = cv2.imread(path)\n",
        "            if img is not None:\n",
        "                img = cv2.resize(img, (100, 100))\n",
        "                images.append(img)\n",
        "        if images:\n",
        "            row = np.hstack(images)\n",
        "            cluster_rows.append(row)\n",
        "            max_width = max(max_width, row.shape[1])\n",
        "\n",
        "    for i in range(len(cluster_rows)):\n",
        "        if cluster_rows[i].shape[1] < max_width:\n",
        "            pad_width = max_width - cluster_rows[i].shape[1]\n",
        "            pad = np.zeros((100, pad_width, 3), dtype=np.uint8)\n",
        "            cluster_rows[i] = np.hstack([cluster_rows[i], pad])\n",
        "\n",
        "    if cluster_rows:\n",
        "        pad = np.zeros((20, max_width, 3), dtype=np.uint8)\n",
        "        grid = np.vstack([np.vstack([r, pad]) for r in cluster_rows[:-1]] + [cluster_rows[-1]])\n",
        "        cv2.imwrite(OUTPUT_GRID, grid)\n",
        "        print(f\"Grid saved to {OUTPUT_GRID}\")\n",
        "\n",
        "def main():\n",
        "    embeddings, image_paths = load_embeddings(IMAGE_DIR)\n",
        "    if len(embeddings) > 0:\n",
        "        labels = custom_cluster(embeddings)\n",
        "        save_cluster_plot(image_paths, labels, embeddings)\n",
        "        save_cluster_grid(image_paths, labels)\n",
        "    else:\n",
        "        print(\"No face embeddings found.\")\n",
        "\n",
        "if __name__ == \"__main__\":\n",
        "    main()\n"
      ],
      "metadata": {
        "id": "G9ebPdem3kHi"
      },
      "execution_count": null,
      "outputs": []
    }
  ]
}