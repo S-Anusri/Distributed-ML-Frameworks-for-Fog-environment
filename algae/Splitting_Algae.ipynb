{
 "cells": [
  {
   "cell_type": "code",
   "execution_count": 1,
   "id": "b5314cf7-5c5b-4ca8-9940-573b67e539bf",
   "metadata": {},
   "outputs": [
    {
     "name": "stdout",
     "output_type": "stream",
     "text": [
      "Training and testing sets created:\n",
      "Training set size: 7827\n",
      "Testing set size: 1957\n"
     ]
    }
   ],
   "source": [
    "import pandas as pd\n",
    "from sklearn.model_selection import train_test_split\n",
    "\n",
    "#To load the modified dataset\n",
    "file_path = 'Modified_Algae.csv'  \n",
    "data = pd.read_csv(file_path)\n",
    "\n",
    "test_size = 0.2  \n",
    "random_state = 42  \n",
    "\n",
    "# Split the data into training and testing sets\n",
    "train_data, test_data = train_test_split(data, test_size=test_size, random_state=random_state)\n",
    "\n",
    "train_data.to_csv('algae_train.csv', index=False)\n",
    "test_data.to_csv('algae_test.csv', index=False)\n",
    "\n",
    "print(\"Training and testing sets created:\")\n",
    "print(f\"Training set size: {len(train_data)}\")\n",
    "print(f\"Testing set size: {len(test_data)}\")"
   ]
  },
  {
   "cell_type": "code",
   "execution_count": null,
   "id": "7b882355-99f0-4e1a-bf62-44348767319f",
   "metadata": {},
   "outputs": [],
   "source": []
  }
 ],
 "metadata": {
  "kernelspec": {
   "display_name": "Python 3 (ipykernel)",
   "language": "python",
   "name": "python3"
  },
  "language_info": {
   "codemirror_mode": {
    "name": "ipython",
    "version": 3
   },
   "file_extension": ".py",
   "mimetype": "text/x-python",
   "name": "python",
   "nbconvert_exporter": "python",
   "pygments_lexer": "ipython3",
   "version": "3.12.6"
  }
 },
 "nbformat": 4,
 "nbformat_minor": 5
}
