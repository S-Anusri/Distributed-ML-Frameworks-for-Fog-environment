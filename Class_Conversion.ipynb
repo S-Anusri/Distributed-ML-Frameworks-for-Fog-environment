{
 "cells": [
  {
   "cell_type": "code",
   "execution_count": 2,
   "id": "046242a7-92fd-44f9-bb33-b4f9df89706b",
   "metadata": {},
   "outputs": [
    {
     "name": "stdout",
     "output_type": "stream",
     "text": [
      "Class labels converted and saved to 'modified_data.csv'\n"
     ]
    }
   ],
   "source": [
    "import pandas as pd\n",
    "\n",
    "file_path = 'algeas.csv'  \n",
    "data = pd.read_csv(file_path)\n",
    "\n",
    "def convert_class_to_number(class_value):\n",
    "    return class_value // 480  \n",
    "\n",
    "data['Class'] = data.iloc[:, -1].apply(convert_class_to_number)\n",
    "\n",
    "data.to_csv('Modified_Algae.csv', index=False)\n",
    "\n",
    "print(\"Class labels converted and saved to 'Modified_Algae.csv'\")"
   ]
  },
  {
   "cell_type": "code",
   "execution_count": null,
   "id": "5c5d54c5-dfdf-403f-a619-6a394403ffb5",
   "metadata": {},
   "outputs": [],
   "source": []
  }
 ],
 "metadata": {
  "kernelspec": {
   "display_name": "Python 3 (ipykernel)",
   "language": "python",
   "name": "python3"
  },
  "language_info": {
   "codemirror_mode": {
    "name": "ipython",
    "version": 3
   },
   "file_extension": ".py",
   "mimetype": "text/x-python",
   "name": "python",
   "nbconvert_exporter": "python",
   "pygments_lexer": "ipython3",
   "version": "3.12.6"
  }
 },
 "nbformat": 4,
 "nbformat_minor": 5
}
